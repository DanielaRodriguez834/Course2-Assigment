{
 "cells": [
  {
   "cell_type": "markdown",
   "metadata": {},
   "source": [
    "<center>\n",
    "    <img src=\"https://cf-courses-data.s3.us.cloud-object-storage.appdomain.cloud/IBMDeveloperSkillsNetwork-DS0105EN-SkillsNetwork/labs/Module2/images/SN_web_lightmode.png\" width=\"300\" alt=\"cognitiveclass.ai logo\">\n",
    "</center>\n"
   ]
  },
  {
   "cell_type": "markdown",
   "metadata": {},
   "source": [
    "#### Add your code below following the instructions given in the course\n"
   ]
  },
  {
   "cell_type": "markdown",
   "metadata": {},
   "source": [
    "# My Jupyter Notebook Assigment #"
   ]
  },
  {
   "cell_type": "markdown",
   "metadata": {},
   "source": [
    "## Introduction ##"
   ]
  },
  {
   "cell_type": "markdown",
   "metadata": {},
   "source": [
    "This notebook will show you: <br>\n",
    "- Data science languages.\n",
    "- Data science libraries.\n",
    "- Data Science tools. \n",
    "- Arithmetic expression examples.\n",
    "- Objectives"
   ]
  },
  {
   "cell_type": "markdown",
   "metadata": {},
   "source": [
    "### Data Science Languages ###"
   ]
  },
  {
   "cell_type": "markdown",
   "metadata": {},
   "source": [
    "- Python\n",
    "- Scala\n",
    "- R\n",
    "- SAS\n",
    "- SQL\n",
    "- Julia"
   ]
  },
  {
   "cell_type": "markdown",
   "metadata": {},
   "source": [
    "### Data Science Libraries ###"
   ]
  },
  {
   "cell_type": "markdown",
   "metadata": {},
   "source": [
    "- Keras\n",
    "- TensorFlow\n",
    "- Pandas\n",
    "- Matplotlib\n",
    "- Seaborn\n",
    "- Numpy\n",
    "- sklearn"
   ]
  },
  {
   "cell_type": "markdown",
   "metadata": {},
   "source": [
    "### Data Science Tools ###"
   ]
  },
  {
   "cell_type": "markdown",
   "metadata": {},
   "source": [
    "|Tool|Name|\n",
    "|----|----|\n",
    "|Data Management|SQL, NoSQL, Filed Based Tools, Elastic Search|\n",
    "|Data Integration and Transformation|ELT,Apache Airflor, Kubeflow, Apachekafka, Apache nifi, Spark SQL, NodeRed|\n",
    "|Data Visualization|Hue (SQL Queries), Kibana, Apache Superset|\n",
    "|Model Deployment|Apache prediction IO, Seldon, mleap, Tensorflowservice|\n",
    "|Model monitoring and assessments|Model DB, Prometheous, IBM research trusted AI, IBM Robustness 360 toolbox, AI explainability 360|\n",
    "|Code Asset Management|Github, Bitbucket|\n",
    "|Data Asset Management|Apache Atlas, Kylo|"
   ]
  },
  {
   "cell_type": "markdown",
   "metadata": {},
   "source": [
    "### Arimethic Expressions Samples ###"
   ]
  },
  {
   "cell_type": "code",
   "execution_count": 9,
   "metadata": {},
   "outputs": [
    {
     "name": "stdout",
     "output_type": "stream",
     "text": [
      "the multiplication of x times y is 753385\n"
     ]
    }
   ],
   "source": [
    "# we want to mutiply real numbers \n",
    "# we define our variables\n",
    "\n",
    "x = 89\n",
    "y = 8465\n",
    "\n",
    "#we excecute the code\n",
    "\n",
    "multiplication = x*y\n",
    "\n",
    "#we print the result \n",
    "print (\"the multiplication of x times y is\", multiplication)"
   ]
  },
  {
   "cell_type": "code",
   "execution_count": 13,
   "metadata": {},
   "outputs": [
    {
     "data": {
      "text/plain": [
       "3511"
      ]
     },
     "execution_count": 13,
     "metadata": {},
     "output_type": "execute_result"
    }
   ],
   "source": [
    "#Multiplying and adding numbers#\n",
    "#creating variables\n",
    "x = 58\n",
    "y = 59\n",
    "b = 89\n",
    "\n",
    "#excecuting function\n",
    "m = x*y + b\n",
    "\n",
    "#printing function\n",
    "m"
   ]
  },
  {
   "cell_type": "code",
   "execution_count": 14,
   "metadata": {},
   "outputs": [
    {
     "data": {
      "text/plain": [
       "14.65"
      ]
     },
     "execution_count": 14,
     "metadata": {},
     "output_type": "execute_result"
    }
   ],
   "source": [
    "#Converting Minutes into Hours\n",
    "\n",
    "#Creating variables\n",
    "min = 879\n",
    "\n",
    "#Creating function\n",
    "Hours = min / 60\n",
    "\n",
    "#Printing function\n",
    "Hours"
   ]
  },
  {
   "cell_type": "markdown",
   "metadata": {},
   "source": [
    "### My Objectives ###"
   ]
  },
  {
   "cell_type": "markdown",
   "metadata": {},
   "source": [
    "My objectives are:\n",
    "- Objective 1\n",
    "- Objective 2\n",
    "- Objective 3"
   ]
  },
  {
   "cell_type": "markdown",
   "metadata": {},
   "source": [
    "**Created by** <br>\n",
    "**Daniela Rodriguez**\n",
    "\n",
    "Aspiring Data Scientist <br>\n",
    "*I am Interested in data science because I want to change careers and focus on something I really enjoy*"
   ]
  },
  {
   "cell_type": "code",
   "execution_count": null,
   "metadata": {},
   "outputs": [],
   "source": []
  }
 ],
 "metadata": {
  "kernelspec": {
   "display_name": "Python",
   "language": "python",
   "name": "conda-env-python-py"
  },
  "language_info": {
   "codemirror_mode": {
    "name": "ipython",
    "version": 3
   },
   "file_extension": ".py",
   "mimetype": "text/x-python",
   "name": "python",
   "nbconvert_exporter": "python",
   "pygments_lexer": "ipython3",
   "version": "3.7.12"
  }
 },
 "nbformat": 4,
 "nbformat_minor": 4
}
